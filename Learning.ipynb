{
 "cells": [
  {
   "cell_type": "markdown",
   "metadata": {},
   "source": [
    "### Numpy"
   ]
  },
  {
   "cell_type": "code",
   "execution_count": 62,
   "metadata": {},
   "outputs": [
    {
     "name": "stdout",
     "output_type": "stream",
     "text": [
      "====\n",
      "[[[ 1  2  3]\n",
      "  [ 4  5  6]]\n",
      "\n",
      " [[ 7  8  9]\n",
      "  [10 11 12]]]\n",
      "int64\n",
      "float64\n",
      "complex128\n"
     ]
    }
   ],
   "source": [
    "import numpy as np\n",
    "\n",
    "my_array = np.array([[1,2,3],[4,5,6],[7,8,9], [10,11,12]])\n",
    "# print(2 * my_array)\n",
    "# print(\"====\")\n",
    "# print(my_array[3,1])\n",
    "# print(my_array[1:, 1:])\n",
    "# print(my_array[1:, 1])\n",
    "# print(\"====\")\n",
    "# print(my_array.shape)\n",
    "# print(my_array[1:, 1:].shape)\n",
    "# print(my_array[1:, 1].shape)\n",
    "# print(\"====\")\n",
    "# print(np.zeros((2,2)))\n",
    "# print(np.ones((2,2)))\n",
    "# print(np.full((2,2), 5))\n",
    "# print(np.random.random((2,2)))\n",
    "# print(np.eye(2))\n",
    "print(\"====\")\n",
    "print(my_array.reshape(2,2,3))\n",
    "print(my_array.dtype)\n",
    "np_float_array = np.array([1,2,3], dtype=np.float64)\n",
    "print(np_float_array.dtype)\n",
    "np_float_array = np.array([1.1+2.3j, 2.2, 3.6])\n",
    "print(np_float_array.dtype)\n"
   ]
  }
 ],
 "metadata": {
  "kernelspec": {
   "display_name": "virtualenv",
   "language": "python",
   "name": "python3"
  },
  "language_info": {
   "codemirror_mode": {
    "name": "ipython",
    "version": 3
   },
   "file_extension": ".py",
   "mimetype": "text/x-python",
   "name": "python",
   "nbconvert_exporter": "python",
   "pygments_lexer": "ipython3",
   "version": "3.8.0"
  }
 },
 "nbformat": 4,
 "nbformat_minor": 2
}
